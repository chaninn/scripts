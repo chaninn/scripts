{
 "metadata": {
  "name": "",
  "signature": "sha256:d84f50427a1ac6968a688bb35751d3c761770b0ab7498273d71c85c8076f83ad"
 },
 "nbformat": 3,
 "nbformat_minor": 0,
 "worksheets": [
  {
   "cells": [
    {
     "cell_type": "markdown",
     "metadata": {},
     "source": [
      "Read Data from SMILES Input File"
     ]
    },
    {
     "cell_type": "code",
     "collapsed": false,
     "input": [
      "import os\n",
      "\n",
      "molname = []\n",
      "smiles = []\n",
      "\n",
      "folderpath = os.getcwd()\n",
      "textpath = folderpath + '/' + 'PAE.txt'\n",
      "openfile = open(textpath, 'r')\n",
      "\n",
      "for i in openfile:\n",
      "    readline = i.split('\\t')\n",
      "    molname.append(readline[1])\n",
      "    smiles.append(readline[0])\n",
      "\n",
      "moleculename = []\n",
      "for i in range(len(molname)):\n",
      "    a = molname[i]\n",
      "    b = a.rstrip('\\n')\n",
      "    moleculename.append(b)"
     ],
     "language": "python",
     "metadata": {},
     "outputs": [],
     "prompt_number": 2
    },
    {
     "cell_type": "markdown",
     "metadata": {},
     "source": [
      "Using the rdkit, we are going to convert these SMI files to 3D MOL files."
     ]
    },
    {
     "cell_type": "code",
     "collapsed": false,
     "input": [
      "from rdkit import Chem\n",
      "from rdkit.Chem import AllChem\n",
      "\n",
      "for i in range(len(smiles)):\n",
      "    mol = Chem.MolFromSmiles(smiles[i])\n",
      "    Chem.Kekulize(mol)\n",
      "    Chem.MolToSmiles(mol,kekuleSmiles=True)\n",
      "    mol.SetProp(\"_Name\",molname[i])\n",
      "    AllChem.Compute2DCoords(mol)\n",
      "    Chem.AddHs(mol)\n",
      "    AllChem.EmbedMolecule(mol)\n",
      "    AllChem.UFFOptimizeMolecule(mol,maxIters=10000)\n",
      "    Chem.MolToMolFile(mol,filename=moleculename[i] + '.mol')"
     ],
     "language": "python",
     "metadata": {},
     "outputs": [],
     "prompt_number": 3
    },
    {
     "cell_type": "code",
     "collapsed": false,
     "input": [],
     "language": "python",
     "metadata": {},
     "outputs": []
    }
   ],
   "metadata": {}
  }
 ]
}
